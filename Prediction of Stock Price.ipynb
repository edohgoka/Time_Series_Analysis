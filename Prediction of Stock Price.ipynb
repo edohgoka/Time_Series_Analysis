{
 "cells": [
  {
   "cell_type": "code",
   "execution_count": 1,
   "metadata": {},
   "outputs": [],
   "source": [
    "import pandas as pd \n",
    "import numpy as np\n",
    "import matplotlib.pyplot as plt \n",
    "import seaborn as sns"
   ]
  },
  {
   "cell_type": "code",
   "execution_count": 2,
   "metadata": {},
   "outputs": [
    {
     "data": {
      "text/html": [
       "<div>\n",
       "<style scoped>\n",
       "    .dataframe tbody tr th:only-of-type {\n",
       "        vertical-align: middle;\n",
       "    }\n",
       "\n",
       "    .dataframe tbody tr th {\n",
       "        vertical-align: top;\n",
       "    }\n",
       "\n",
       "    .dataframe thead th {\n",
       "        text-align: right;\n",
       "    }\n",
       "</style>\n",
       "<table border=\"1\" class=\"dataframe\">\n",
       "  <thead>\n",
       "    <tr style=\"text-align: right;\">\n",
       "      <th></th>\n",
       "      <th>Date</th>\n",
       "      <th>Symbol</th>\n",
       "      <th>Series</th>\n",
       "      <th>Prev Close</th>\n",
       "      <th>Open</th>\n",
       "      <th>High</th>\n",
       "      <th>Low</th>\n",
       "      <th>Last</th>\n",
       "      <th>Close</th>\n",
       "      <th>VWAP</th>\n",
       "      <th>Volume</th>\n",
       "      <th>Turnover</th>\n",
       "      <th>Trades</th>\n",
       "      <th>Deliverable Volume</th>\n",
       "      <th>%Deliverble</th>\n",
       "    </tr>\n",
       "  </thead>\n",
       "  <tbody>\n",
       "    <tr>\n",
       "      <th>0</th>\n",
       "      <td>2000-01-03</td>\n",
       "      <td>BAJAUTOFIN</td>\n",
       "      <td>EQ</td>\n",
       "      <td>46.95</td>\n",
       "      <td>49.45</td>\n",
       "      <td>50.75</td>\n",
       "      <td>46.5</td>\n",
       "      <td>50.75</td>\n",
       "      <td>50.75</td>\n",
       "      <td>50.05</td>\n",
       "      <td>7600</td>\n",
       "      <td>3.803800e+10</td>\n",
       "      <td>NaN</td>\n",
       "      <td>NaN</td>\n",
       "      <td>NaN</td>\n",
       "    </tr>\n",
       "    <tr>\n",
       "      <th>1</th>\n",
       "      <td>2000-01-04</td>\n",
       "      <td>BAJAUTOFIN</td>\n",
       "      <td>EQ</td>\n",
       "      <td>50.75</td>\n",
       "      <td>53.20</td>\n",
       "      <td>53.20</td>\n",
       "      <td>47.9</td>\n",
       "      <td>48.00</td>\n",
       "      <td>48.10</td>\n",
       "      <td>48.56</td>\n",
       "      <td>5000</td>\n",
       "      <td>2.428000e+10</td>\n",
       "      <td>NaN</td>\n",
       "      <td>NaN</td>\n",
       "      <td>NaN</td>\n",
       "    </tr>\n",
       "    <tr>\n",
       "      <th>2</th>\n",
       "      <td>2000-01-05</td>\n",
       "      <td>BAJAUTOFIN</td>\n",
       "      <td>EQ</td>\n",
       "      <td>48.10</td>\n",
       "      <td>46.55</td>\n",
       "      <td>47.40</td>\n",
       "      <td>44.6</td>\n",
       "      <td>44.60</td>\n",
       "      <td>44.60</td>\n",
       "      <td>45.47</td>\n",
       "      <td>3500</td>\n",
       "      <td>1.591450e+10</td>\n",
       "      <td>NaN</td>\n",
       "      <td>NaN</td>\n",
       "      <td>NaN</td>\n",
       "    </tr>\n",
       "    <tr>\n",
       "      <th>3</th>\n",
       "      <td>2000-01-06</td>\n",
       "      <td>BAJAUTOFIN</td>\n",
       "      <td>EQ</td>\n",
       "      <td>44.60</td>\n",
       "      <td>43.50</td>\n",
       "      <td>46.00</td>\n",
       "      <td>42.1</td>\n",
       "      <td>46.00</td>\n",
       "      <td>45.25</td>\n",
       "      <td>44.43</td>\n",
       "      <td>6200</td>\n",
       "      <td>2.754750e+10</td>\n",
       "      <td>NaN</td>\n",
       "      <td>NaN</td>\n",
       "      <td>NaN</td>\n",
       "    </tr>\n",
       "    <tr>\n",
       "      <th>4</th>\n",
       "      <td>2000-01-07</td>\n",
       "      <td>BAJAUTOFIN</td>\n",
       "      <td>EQ</td>\n",
       "      <td>45.25</td>\n",
       "      <td>48.00</td>\n",
       "      <td>48.00</td>\n",
       "      <td>42.0</td>\n",
       "      <td>42.90</td>\n",
       "      <td>42.90</td>\n",
       "      <td>44.44</td>\n",
       "      <td>3500</td>\n",
       "      <td>1.555550e+10</td>\n",
       "      <td>NaN</td>\n",
       "      <td>NaN</td>\n",
       "      <td>NaN</td>\n",
       "    </tr>\n",
       "  </tbody>\n",
       "</table>\n",
       "</div>"
      ],
      "text/plain": [
       "         Date      Symbol Series  Prev Close   Open   High   Low   Last  \\\n",
       "0  2000-01-03  BAJAUTOFIN     EQ       46.95  49.45  50.75  46.5  50.75   \n",
       "1  2000-01-04  BAJAUTOFIN     EQ       50.75  53.20  53.20  47.9  48.00   \n",
       "2  2000-01-05  BAJAUTOFIN     EQ       48.10  46.55  47.40  44.6  44.60   \n",
       "3  2000-01-06  BAJAUTOFIN     EQ       44.60  43.50  46.00  42.1  46.00   \n",
       "4  2000-01-07  BAJAUTOFIN     EQ       45.25  48.00  48.00  42.0  42.90   \n",
       "\n",
       "   Close   VWAP  Volume      Turnover  Trades  Deliverable Volume  %Deliverble  \n",
       "0  50.75  50.05    7600  3.803800e+10     NaN                 NaN          NaN  \n",
       "1  48.10  48.56    5000  2.428000e+10     NaN                 NaN          NaN  \n",
       "2  44.60  45.47    3500  1.591450e+10     NaN                 NaN          NaN  \n",
       "3  45.25  44.43    6200  2.754750e+10     NaN                 NaN          NaN  \n",
       "4  42.90  44.44    3500  1.555550e+10     NaN                 NaN          NaN  "
      ]
     },
     "execution_count": 2,
     "metadata": {},
     "output_type": "execute_result"
    }
   ],
   "source": [
    "df = pd.read_csv(\"BAJFINANCE.csv\")\n",
    "df.head()"
   ]
  },
  {
   "cell_type": "markdown",
   "metadata": {},
   "source": [
    "WAP stands for Weighted Average Price"
   ]
  },
  {
   "cell_type": "code",
   "execution_count": 3,
   "metadata": {},
   "outputs": [
    {
     "data": {
      "text/plain": [
       "Date                   object\n",
       "Symbol                 object\n",
       "Series                 object\n",
       "Prev Close            float64\n",
       "Open                  float64\n",
       "High                  float64\n",
       "Low                   float64\n",
       "Last                  float64\n",
       "Close                 float64\n",
       "VWAP                  float64\n",
       "Volume                  int64\n",
       "Turnover              float64\n",
       "Trades                float64\n",
       "Deliverable Volume    float64\n",
       "%Deliverble           float64\n",
       "dtype: object"
      ]
     },
     "execution_count": 3,
     "metadata": {},
     "output_type": "execute_result"
    }
   ],
   "source": [
    "df.dtypes"
   ]
  },
  {
   "cell_type": "code",
   "execution_count": 4,
   "metadata": {},
   "outputs": [],
   "source": [
    "df[\"Date\"] = pd.to_datetime(df[\"Date\"])"
   ]
  },
  {
   "cell_type": "code",
   "execution_count": 5,
   "metadata": {},
   "outputs": [],
   "source": [
    "df.set_index(\"Date\", inplace=True)"
   ]
  },
  {
   "cell_type": "code",
   "execution_count": 6,
   "metadata": {},
   "outputs": [
    {
     "data": {
      "text/plain": [
       "Symbol                 object\n",
       "Series                 object\n",
       "Prev Close            float64\n",
       "Open                  float64\n",
       "High                  float64\n",
       "Low                   float64\n",
       "Last                  float64\n",
       "Close                 float64\n",
       "VWAP                  float64\n",
       "Volume                  int64\n",
       "Turnover              float64\n",
       "Trades                float64\n",
       "Deliverable Volume    float64\n",
       "%Deliverble           float64\n",
       "dtype: object"
      ]
     },
     "execution_count": 6,
     "metadata": {},
     "output_type": "execute_result"
    }
   ],
   "source": [
    "df.dtypes"
   ]
  },
  {
   "cell_type": "code",
   "execution_count": 7,
   "metadata": {},
   "outputs": [
    {
     "data": {
      "text/html": [
       "<div>\n",
       "<style scoped>\n",
       "    .dataframe tbody tr th:only-of-type {\n",
       "        vertical-align: middle;\n",
       "    }\n",
       "\n",
       "    .dataframe tbody tr th {\n",
       "        vertical-align: top;\n",
       "    }\n",
       "\n",
       "    .dataframe thead th {\n",
       "        text-align: right;\n",
       "    }\n",
       "</style>\n",
       "<table border=\"1\" class=\"dataframe\">\n",
       "  <thead>\n",
       "    <tr style=\"text-align: right;\">\n",
       "      <th></th>\n",
       "      <th>Symbol</th>\n",
       "      <th>Series</th>\n",
       "      <th>Prev Close</th>\n",
       "      <th>Open</th>\n",
       "      <th>High</th>\n",
       "      <th>Low</th>\n",
       "      <th>Last</th>\n",
       "      <th>Close</th>\n",
       "      <th>VWAP</th>\n",
       "      <th>Volume</th>\n",
       "      <th>Turnover</th>\n",
       "      <th>Trades</th>\n",
       "      <th>Deliverable Volume</th>\n",
       "      <th>%Deliverble</th>\n",
       "    </tr>\n",
       "    <tr>\n",
       "      <th>Date</th>\n",
       "      <th></th>\n",
       "      <th></th>\n",
       "      <th></th>\n",
       "      <th></th>\n",
       "      <th></th>\n",
       "      <th></th>\n",
       "      <th></th>\n",
       "      <th></th>\n",
       "      <th></th>\n",
       "      <th></th>\n",
       "      <th></th>\n",
       "      <th></th>\n",
       "      <th></th>\n",
       "      <th></th>\n",
       "    </tr>\n",
       "  </thead>\n",
       "  <tbody>\n",
       "    <tr>\n",
       "      <th>2000-01-03</th>\n",
       "      <td>BAJAUTOFIN</td>\n",
       "      <td>EQ</td>\n",
       "      <td>46.95</td>\n",
       "      <td>49.45</td>\n",
       "      <td>50.75</td>\n",
       "      <td>46.5</td>\n",
       "      <td>50.75</td>\n",
       "      <td>50.75</td>\n",
       "      <td>50.05</td>\n",
       "      <td>7600</td>\n",
       "      <td>3.803800e+10</td>\n",
       "      <td>NaN</td>\n",
       "      <td>NaN</td>\n",
       "      <td>NaN</td>\n",
       "    </tr>\n",
       "    <tr>\n",
       "      <th>2000-01-04</th>\n",
       "      <td>BAJAUTOFIN</td>\n",
       "      <td>EQ</td>\n",
       "      <td>50.75</td>\n",
       "      <td>53.20</td>\n",
       "      <td>53.20</td>\n",
       "      <td>47.9</td>\n",
       "      <td>48.00</td>\n",
       "      <td>48.10</td>\n",
       "      <td>48.56</td>\n",
       "      <td>5000</td>\n",
       "      <td>2.428000e+10</td>\n",
       "      <td>NaN</td>\n",
       "      <td>NaN</td>\n",
       "      <td>NaN</td>\n",
       "    </tr>\n",
       "    <tr>\n",
       "      <th>2000-01-05</th>\n",
       "      <td>BAJAUTOFIN</td>\n",
       "      <td>EQ</td>\n",
       "      <td>48.10</td>\n",
       "      <td>46.55</td>\n",
       "      <td>47.40</td>\n",
       "      <td>44.6</td>\n",
       "      <td>44.60</td>\n",
       "      <td>44.60</td>\n",
       "      <td>45.47</td>\n",
       "      <td>3500</td>\n",
       "      <td>1.591450e+10</td>\n",
       "      <td>NaN</td>\n",
       "      <td>NaN</td>\n",
       "      <td>NaN</td>\n",
       "    </tr>\n",
       "    <tr>\n",
       "      <th>2000-01-06</th>\n",
       "      <td>BAJAUTOFIN</td>\n",
       "      <td>EQ</td>\n",
       "      <td>44.60</td>\n",
       "      <td>43.50</td>\n",
       "      <td>46.00</td>\n",
       "      <td>42.1</td>\n",
       "      <td>46.00</td>\n",
       "      <td>45.25</td>\n",
       "      <td>44.43</td>\n",
       "      <td>6200</td>\n",
       "      <td>2.754750e+10</td>\n",
       "      <td>NaN</td>\n",
       "      <td>NaN</td>\n",
       "      <td>NaN</td>\n",
       "    </tr>\n",
       "    <tr>\n",
       "      <th>2000-01-07</th>\n",
       "      <td>BAJAUTOFIN</td>\n",
       "      <td>EQ</td>\n",
       "      <td>45.25</td>\n",
       "      <td>48.00</td>\n",
       "      <td>48.00</td>\n",
       "      <td>42.0</td>\n",
       "      <td>42.90</td>\n",
       "      <td>42.90</td>\n",
       "      <td>44.44</td>\n",
       "      <td>3500</td>\n",
       "      <td>1.555550e+10</td>\n",
       "      <td>NaN</td>\n",
       "      <td>NaN</td>\n",
       "      <td>NaN</td>\n",
       "    </tr>\n",
       "  </tbody>\n",
       "</table>\n",
       "</div>"
      ],
      "text/plain": [
       "                Symbol Series  Prev Close   Open   High   Low   Last  Close  \\\n",
       "Date                                                                          \n",
       "2000-01-03  BAJAUTOFIN     EQ       46.95  49.45  50.75  46.5  50.75  50.75   \n",
       "2000-01-04  BAJAUTOFIN     EQ       50.75  53.20  53.20  47.9  48.00  48.10   \n",
       "2000-01-05  BAJAUTOFIN     EQ       48.10  46.55  47.40  44.6  44.60  44.60   \n",
       "2000-01-06  BAJAUTOFIN     EQ       44.60  43.50  46.00  42.1  46.00  45.25   \n",
       "2000-01-07  BAJAUTOFIN     EQ       45.25  48.00  48.00  42.0  42.90  42.90   \n",
       "\n",
       "             VWAP  Volume      Turnover  Trades  Deliverable Volume  \\\n",
       "Date                                                                  \n",
       "2000-01-03  50.05    7600  3.803800e+10     NaN                 NaN   \n",
       "2000-01-04  48.56    5000  2.428000e+10     NaN                 NaN   \n",
       "2000-01-05  45.47    3500  1.591450e+10     NaN                 NaN   \n",
       "2000-01-06  44.43    6200  2.754750e+10     NaN                 NaN   \n",
       "2000-01-07  44.44    3500  1.555550e+10     NaN                 NaN   \n",
       "\n",
       "            %Deliverble  \n",
       "Date                     \n",
       "2000-01-03          NaN  \n",
       "2000-01-04          NaN  \n",
       "2000-01-05          NaN  \n",
       "2000-01-06          NaN  \n",
       "2000-01-07          NaN  "
      ]
     },
     "execution_count": 7,
     "metadata": {},
     "output_type": "execute_result"
    }
   ],
   "source": [
    "df.head()"
   ]
  },
  {
   "cell_type": "code",
   "execution_count": 8,
   "metadata": {},
   "outputs": [
    {
     "data": {
      "text/plain": [
       "<matplotlib.axes._subplots.AxesSubplot at 0x23de6a1d848>"
      ]
     },
     "execution_count": 8,
     "metadata": {},
     "output_type": "execute_result"
    },
    {
     "data": {
      "image/png": "[encoded data removed]",
      "text/plain": [
       "<Figure size 432x288 with 1 Axes>"
      ]
     },
     "metadata": {
      "needs_background": "light"
     },
     "output_type": "display_data"
    }
   ],
   "source": [
    "df[\"VWAP\"].plot()"
   ]
  },
  {
   "cell_type": "code",
   "execution_count": 9,
   "metadata": {},
   "outputs": [
    {
     "data": {
      "text/plain": [
       "(5070, 14)"
      ]
     },
     "execution_count": 9,
     "metadata": {},
     "output_type": "execute_result"
    }
   ],
   "source": [
    "df.shape"
   ]
  },
  {
   "cell_type": "code",
   "execution_count": 10,
   "metadata": {},
   "outputs": [
    {
     "data": {
      "text/plain": [
       "Symbol                   0\n",
       "Series                   0\n",
       "Prev Close               0\n",
       "Open                     0\n",
       "High                     0\n",
       "Low                      0\n",
       "Last                     0\n",
       "Close                    0\n",
       "VWAP                     0\n",
       "Volume                   0\n",
       "Turnover                 0\n",
       "Trades                2779\n",
       "Deliverable Volume     446\n",
       "%Deliverble            446\n",
       "dtype: int64"
      ]
     },
     "execution_count": 10,
     "metadata": {},
     "output_type": "execute_result"
    }
   ],
   "source": [
    "df.isna().sum()"
   ]
  },
  {
   "cell_type": "code",
   "execution_count": 11,
   "metadata": {},
   "outputs": [],
   "source": [
    "df.dropna(inplace=True)"
   ]
  },
  {
   "cell_type": "code",
   "execution_count": 12,
   "metadata": {},
   "outputs": [
    {
     "data": {
      "text/plain": [
       "Symbol                0\n",
       "Series                0\n",
       "Prev Close            0\n",
       "Open                  0\n",
       "High                  0\n",
       "Low                   0\n",
       "Last                  0\n",
       "Close                 0\n",
       "VWAP                  0\n",
       "Volume                0\n",
       "Turnover              0\n",
       "Trades                0\n",
       "Deliverable Volume    0\n",
       "%Deliverble           0\n",
       "dtype: int64"
      ]
     },
     "execution_count": 12,
     "metadata": {},
     "output_type": "execute_result"
    }
   ],
   "source": [
    "df.isna().sum()"
   ]
  },
  {
   "cell_type": "code",
   "execution_count": 13,
   "metadata": {},
   "outputs": [],
   "source": [
    "data = df.copy()"
   ]
  },
  {
   "cell_type": "code",
   "execution_count": 14,
   "metadata": {},
   "outputs": [
    {
     "data": {
      "text/plain": [
       "Symbol                 object\n",
       "Series                 object\n",
       "Prev Close            float64\n",
       "Open                  float64\n",
       "High                  float64\n",
       "Low                   float64\n",
       "Last                  float64\n",
       "Close                 float64\n",
       "VWAP                  float64\n",
       "Volume                  int64\n",
       "Turnover              float64\n",
       "Trades                float64\n",
       "Deliverable Volume    float64\n",
       "%Deliverble           float64\n",
       "dtype: object"
      ]
     },
     "execution_count": 14,
     "metadata": {},
     "output_type": "execute_result"
    }
   ],
   "source": [
    "data.dtypes"
   ]
  },
  {
   "cell_type": "code",
   "execution_count": 15,
   "metadata": {},
   "outputs": [],
   "source": [
    "lag_features = [\"High\", \"Low\", \"Volume\", \"Turnover\", \"Trades\"]\n",
    "window1 = 3\n",
    "window2 = 7"
   ]
  },
  {
   "cell_type": "code",
   "execution_count": 16,
   "metadata": {},
   "outputs": [],
   "source": [
    "for feature in lag_features:\n",
    "    data[feature + \"_Rolling_mean_3\"] = data[feature].rolling(window = window1).mean()\n",
    "    data[feature + \"_Rolling_mean_7\"] = data[feature].rolling(window = window2).mean()"
   ]
  },
  {
   "cell_type": "code",
   "execution_count": 17,
   "metadata": {},
   "outputs": [],
   "source": [
    "for feature in lag_features:\n",
    "    data[feature + \"_Rolling_std_3\"] = data[feature].rolling(window = window1).std()\n",
    "    data[feature + \"_Rolling_std_7\"] = data[feature].rolling(window = window2).std()"
   ]
  },
  {
   "cell_type": "code",
   "execution_count": 18,
   "metadata": {},
   "outputs": [
    {
     "data": {
      "text/plain": [
       "Index(['Symbol', 'Series', 'Prev Close', 'Open', 'High', 'Low', 'Last',\n",
       "       'Close', 'VWAP', 'Volume', 'Turnover', 'Trades', 'Deliverable Volume',\n",
       "       '%Deliverble', 'High_Rolling_mean_3', 'High_Rolling_mean_7',\n",
       "       'Low_Rolling_mean_3', 'Low_Rolling_mean_7', 'Volume_Rolling_mean_3',\n",
       "       'Volume_Rolling_mean_7', 'Turnover_Rolling_mean_3',\n",
       "       'Turnover_Rolling_mean_7', 'Trades_Rolling_mean_3',\n",
       "       'Trades_Rolling_mean_7', 'High_Rolling_std_3', 'High_Rolling_std_7',\n",
       "       'Low_Rolling_std_3', 'Low_Rolling_std_7', 'Volume_Rolling_std_3',\n",
       "       'Volume_Rolling_std_7', 'Turnover_Rolling_std_3',\n",
       "       'Turnover_Rolling_std_7', 'Trades_Rolling_std_3',\n",
       "       'Trades_Rolling_std_7'],\n",
       "      dtype='object')"
      ]
     },
     "execution_count": 18,
     "metadata": {},
     "output_type": "execute_result"
    }
   ],
   "source": [
    "data.columns"
   ]
  },
  {
   "cell_type": "code",
   "execution_count": 19,
   "metadata": {},
   "outputs": [
    {
     "data": {
      "text/plain": [
       "(2291, 34)"
      ]
     },
     "execution_count": 19,
     "metadata": {},
     "output_type": "execute_result"
    }
   ],
   "source": [
    "data.shape"
   ]
  },
  {
   "cell_type": "code",
   "execution_count": 20,
   "metadata": {},
   "outputs": [
    {
     "data": {
      "text/html": [
       "<div>\n",
       "<style scoped>\n",
       "    .dataframe tbody tr th:only-of-type {\n",
       "        vertical-align: middle;\n",
       "    }\n",
       "\n",
       "    .dataframe tbody tr th {\n",
       "        vertical-align: top;\n",
       "    }\n",
       "\n",
       "    .dataframe thead th {\n",
       "        text-align: right;\n",
       "    }\n",
       "</style>\n",
       "<table border=\"1\" class=\"dataframe\">\n",
       "  <thead>\n",
       "    <tr style=\"text-align: right;\">\n",
       "      <th></th>\n",
       "      <th>Symbol</th>\n",
       "      <th>Series</th>\n",
       "      <th>Prev Close</th>\n",
       "      <th>Open</th>\n",
       "      <th>High</th>\n",
       "      <th>Low</th>\n",
       "      <th>Last</th>\n",
       "      <th>Close</th>\n",
       "      <th>VWAP</th>\n",
       "      <th>Volume</th>\n",
       "      <th>...</th>\n",
       "      <th>High_Rolling_std_3</th>\n",
       "      <th>High_Rolling_std_7</th>\n",
       "      <th>Low_Rolling_std_3</th>\n",
       "      <th>Low_Rolling_std_7</th>\n",
       "      <th>Volume_Rolling_std_3</th>\n",
       "      <th>Volume_Rolling_std_7</th>\n",
       "      <th>Turnover_Rolling_std_3</th>\n",
       "      <th>Turnover_Rolling_std_7</th>\n",
       "      <th>Trades_Rolling_std_3</th>\n",
       "      <th>Trades_Rolling_std_7</th>\n",
       "    </tr>\n",
       "    <tr>\n",
       "      <th>Date</th>\n",
       "      <th></th>\n",
       "      <th></th>\n",
       "      <th></th>\n",
       "      <th></th>\n",
       "      <th></th>\n",
       "      <th></th>\n",
       "      <th></th>\n",
       "      <th></th>\n",
       "      <th></th>\n",
       "      <th></th>\n",
       "      <th></th>\n",
       "      <th></th>\n",
       "      <th></th>\n",
       "      <th></th>\n",
       "      <th></th>\n",
       "      <th></th>\n",
       "      <th></th>\n",
       "      <th></th>\n",
       "      <th></th>\n",
       "      <th></th>\n",
       "      <th></th>\n",
       "    </tr>\n",
       "  </thead>\n",
       "  <tbody>\n",
       "    <tr>\n",
       "      <th>2011-06-01</th>\n",
       "      <td>BAJFINANCE</td>\n",
       "      <td>EQ</td>\n",
       "      <td>616.70</td>\n",
       "      <td>617.00</td>\n",
       "      <td>636.50</td>\n",
       "      <td>616.00</td>\n",
       "      <td>627.00</td>\n",
       "      <td>631.85</td>\n",
       "      <td>627.01</td>\n",
       "      <td>6894</td>\n",
       "      <td>...</td>\n",
       "      <td>NaN</td>\n",
       "      <td>NaN</td>\n",
       "      <td>NaN</td>\n",
       "      <td>NaN</td>\n",
       "      <td>NaN</td>\n",
       "      <td>NaN</td>\n",
       "      <td>NaN</td>\n",
       "      <td>NaN</td>\n",
       "      <td>NaN</td>\n",
       "      <td>NaN</td>\n",
       "    </tr>\n",
       "    <tr>\n",
       "      <th>2011-06-02</th>\n",
       "      <td>BAJFINANCE</td>\n",
       "      <td>EQ</td>\n",
       "      <td>631.85</td>\n",
       "      <td>625.00</td>\n",
       "      <td>638.90</td>\n",
       "      <td>620.00</td>\n",
       "      <td>634.00</td>\n",
       "      <td>633.45</td>\n",
       "      <td>636.04</td>\n",
       "      <td>2769</td>\n",
       "      <td>...</td>\n",
       "      <td>NaN</td>\n",
       "      <td>NaN</td>\n",
       "      <td>NaN</td>\n",
       "      <td>NaN</td>\n",
       "      <td>NaN</td>\n",
       "      <td>NaN</td>\n",
       "      <td>NaN</td>\n",
       "      <td>NaN</td>\n",
       "      <td>NaN</td>\n",
       "      <td>NaN</td>\n",
       "    </tr>\n",
       "    <tr>\n",
       "      <th>2011-06-03</th>\n",
       "      <td>BAJFINANCE</td>\n",
       "      <td>EQ</td>\n",
       "      <td>633.45</td>\n",
       "      <td>625.15</td>\n",
       "      <td>637.80</td>\n",
       "      <td>620.00</td>\n",
       "      <td>623.00</td>\n",
       "      <td>625.00</td>\n",
       "      <td>625.09</td>\n",
       "      <td>51427</td>\n",
       "      <td>...</td>\n",
       "      <td>1.201388</td>\n",
       "      <td>NaN</td>\n",
       "      <td>2.309401</td>\n",
       "      <td>NaN</td>\n",
       "      <td>26980.871860</td>\n",
       "      <td>NaN</td>\n",
       "      <td>1.685217e+12</td>\n",
       "      <td>NaN</td>\n",
       "      <td>670.500559</td>\n",
       "      <td>NaN</td>\n",
       "    </tr>\n",
       "    <tr>\n",
       "      <th>2011-06-06</th>\n",
       "      <td>BAJFINANCE</td>\n",
       "      <td>EQ</td>\n",
       "      <td>625.00</td>\n",
       "      <td>620.00</td>\n",
       "      <td>641.00</td>\n",
       "      <td>611.35</td>\n",
       "      <td>611.35</td>\n",
       "      <td>614.00</td>\n",
       "      <td>616.03</td>\n",
       "      <td>5446</td>\n",
       "      <td>...</td>\n",
       "      <td>1.625833</td>\n",
       "      <td>NaN</td>\n",
       "      <td>4.994080</td>\n",
       "      <td>NaN</td>\n",
       "      <td>27352.695339</td>\n",
       "      <td>NaN</td>\n",
       "      <td>1.710136e+12</td>\n",
       "      <td>NaN</td>\n",
       "      <td>148.769396</td>\n",
       "      <td>NaN</td>\n",
       "    </tr>\n",
       "    <tr>\n",
       "      <th>2011-06-07</th>\n",
       "      <td>BAJFINANCE</td>\n",
       "      <td>EQ</td>\n",
       "      <td>614.00</td>\n",
       "      <td>604.00</td>\n",
       "      <td>623.95</td>\n",
       "      <td>604.00</td>\n",
       "      <td>619.90</td>\n",
       "      <td>619.15</td>\n",
       "      <td>617.73</td>\n",
       "      <td>5991</td>\n",
       "      <td>...</td>\n",
       "      <td>9.062422</td>\n",
       "      <td>NaN</td>\n",
       "      <td>8.008797</td>\n",
       "      <td>NaN</td>\n",
       "      <td>26391.221653</td>\n",
       "      <td>NaN</td>\n",
       "      <td>1.652377e+12</td>\n",
       "      <td>NaN</td>\n",
       "      <td>78.270897</td>\n",
       "      <td>NaN</td>\n",
       "    </tr>\n",
       "  </tbody>\n",
       "</table>\n",
       "<p>5 rows × 34 columns</p>\n",
       "</div>"
      ],
      "text/plain": [
       "                Symbol Series  Prev Close    Open    High     Low    Last  \\\n",
       "Date                                                                        \n",
       "2011-06-01  BAJFINANCE     EQ      616.70  617.00  636.50  616.00  627.00   \n",
       "2011-06-02  BAJFINANCE     EQ      631.85  625.00  638.90  620.00  634.00   \n",
       "2011-06-03  BAJFINANCE     EQ      633.45  625.15  637.80  620.00  623.00   \n",
       "2011-06-06  BAJFINANCE     EQ      625.00  620.00  641.00  611.35  611.35   \n",
       "2011-06-07  BAJFINANCE     EQ      614.00  604.00  623.95  604.00  619.90   \n",
       "\n",
       "             Close    VWAP  Volume  ...  High_Rolling_std_3  \\\n",
       "Date                                ...                       \n",
       "2011-06-01  631.85  627.01    6894  ...                 NaN   \n",
       "2011-06-02  633.45  636.04    2769  ...                 NaN   \n",
       "2011-06-03  625.00  625.09   51427  ...            1.201388   \n",
       "2011-06-06  614.00  616.03    5446  ...            1.625833   \n",
       "2011-06-07  619.15  617.73    5991  ...            9.062422   \n",
       "\n",
       "            High_Rolling_std_7  Low_Rolling_std_3  Low_Rolling_std_7  \\\n",
       "Date                                                                   \n",
       "2011-06-01                 NaN                NaN                NaN   \n",
       "2011-06-02                 NaN                NaN                NaN   \n",
       "2011-06-03                 NaN           2.309401                NaN   \n",
       "2011-06-06                 NaN           4.994080                NaN   \n",
       "2011-06-07                 NaN           8.008797                NaN   \n",
       "\n",
       "            Volume_Rolling_std_3  Volume_Rolling_std_7  \\\n",
       "Date                                                     \n",
       "2011-06-01                   NaN                   NaN   \n",
       "2011-06-02                   NaN                   NaN   \n",
       "2011-06-03          26980.871860                   NaN   \n",
       "2011-06-06          27352.695339                   NaN   \n",
       "2011-06-07          26391.221653                   NaN   \n",
       "\n",
       "            Turnover_Rolling_std_3  Turnover_Rolling_std_7  \\\n",
       "Date                                                         \n",
       "2011-06-01                     NaN                     NaN   \n",
       "2011-06-02                     NaN                     NaN   \n",
       "2011-06-03            1.685217e+12                     NaN   \n",
       "2011-06-06            1.710136e+12                     NaN   \n",
       "2011-06-07            1.652377e+12                     NaN   \n",
       "\n",
       "            Trades_Rolling_std_3  Trades_Rolling_std_7  \n",
       "Date                                                    \n",
       "2011-06-01                   NaN                   NaN  \n",
       "2011-06-02                   NaN                   NaN  \n",
       "2011-06-03            670.500559                   NaN  \n",
       "2011-06-06            148.769396                   NaN  \n",
       "2011-06-07             78.270897                   NaN  \n",
       "\n",
       "[5 rows x 34 columns]"
      ]
     },
     "execution_count": 20,
     "metadata": {},
     "output_type": "execute_result"
    }
   ],
   "source": [
    "data.head()"
   ]
  },
  {
   "cell_type": "code",
   "execution_count": 21,
   "metadata": {},
   "outputs": [
    {
     "data": {
      "text/plain": [
       "Symbol                     0\n",
       "Series                     0\n",
       "Prev Close                 0\n",
       "Open                       0\n",
       "High                       0\n",
       "Low                        0\n",
       "Last                       0\n",
       "Close                      0\n",
       "VWAP                       0\n",
       "Volume                     0\n",
       "Turnover                   0\n",
       "Trades                     0\n",
       "Deliverable Volume         0\n",
       "%Deliverble                0\n",
       "High_Rolling_mean_3        2\n",
       "High_Rolling_mean_7        6\n",
       "Low_Rolling_mean_3         2\n",
       "Low_Rolling_mean_7         6\n",
       "Volume_Rolling_mean_3      2\n",
       "Volume_Rolling_mean_7      6\n",
       "Turnover_Rolling_mean_3    2\n",
       "Turnover_Rolling_mean_7    6\n",
       "Trades_Rolling_mean_3      2\n",
       "Trades_Rolling_mean_7      6\n",
       "High_Rolling_std_3         2\n",
       "High_Rolling_std_7         6\n",
       "Low_Rolling_std_3          2\n",
       "Low_Rolling_std_7          6\n",
       "Volume_Rolling_std_3       2\n",
       "Volume_Rolling_std_7       6\n",
       "Turnover_Rolling_std_3     2\n",
       "Turnover_Rolling_std_7     6\n",
       "Trades_Rolling_std_3       2\n",
       "Trades_Rolling_std_7       6\n",
       "dtype: int64"
      ]
     },
     "execution_count": 21,
     "metadata": {},
     "output_type": "execute_result"
    }
   ],
   "source": [
    "data.isna().sum()"
   ]
  },
  {
   "cell_type": "code",
   "execution_count": 22,
   "metadata": {},
   "outputs": [],
   "source": [
    "data.dropna(inplace=True)"
   ]
  },
  {
   "cell_type": "code",
   "execution_count": 24,
   "metadata": {},
   "outputs": [],
   "source": [
    "ind_features = ['High_Rolling_mean_3', 'High_Rolling_mean_7',\n",
    "       'Low_Rolling_mean_3', 'Low_Rolling_mean_7', 'Volume_Rolling_mean_3',\n",
    "       'Volume_Rolling_mean_7', 'Turnover_Rolling_mean_3',\n",
    "       'Turnover_Rolling_mean_7', 'Trades_Rolling_mean_3',\n",
    "       'Trades_Rolling_mean_7', 'High_Rolling_std_3', 'High_Rolling_std_7',\n",
    "       'Low_Rolling_std_3', 'Low_Rolling_std_7', 'Volume_Rolling_std_3',\n",
    "       'Volume_Rolling_std_7', 'Turnover_Rolling_std_3',\n",
    "       'Turnover_Rolling_std_7', 'Trades_Rolling_std_3',\n",
    "       'Trades_Rolling_std_7']"
   ]
  },
  {
   "cell_type": "code",
   "execution_count": 25,
   "metadata": {},
   "outputs": [],
   "source": [
    "training_data = data[0:1800]\n",
    "test_data = data[1800:]"
   ]
  },
  {
   "cell_type": "code",
   "execution_count": 26,
   "metadata": {},
   "outputs": [],
   "source": [
    "from pmdarima import auto_arimaarima"
   ]
  },
  {
   "cell_type": "code",
   "execution_count": 31,
   "metadata": {},
   "outputs": [],
   "source": [
    "import warnings\n",
    "warnings.filterwarnings(\"ignore\")"
   ]
  },
  {
   "cell_type": "code",
   "execution_count": 30,
   "metadata": {},
   "outputs": [
    {
     "name": "stdout",
     "output_type": "stream",
     "text": [
      "Performing stepwise search to minimize aic\n",
      " ARIMA(2,0,2)(0,0,0)[0] intercept   : AIC=20931.536, Time=3.83 sec\n",
      " ARIMA(0,0,0)(0,0,0)[0] intercept   : AIC=20925.224, Time=1.95 sec\n",
      " ARIMA(1,0,0)(0,0,0)[0] intercept   : AIC=20926.348, Time=2.04 sec\n",
      " ARIMA(0,0,1)(0,0,0)[0] intercept   : AIC=20926.320, Time=3.28 sec\n",
      " ARIMA(0,0,0)(0,0,0)[0]             : AIC=32616.913, Time=1.84 sec\n",
      " ARIMA(1,0,1)(0,0,0)[0] intercept   : AIC=20929.234, Time=3.65 sec\n",
      "\n",
      "Best model:  ARIMA(0,0,0)(0,0,0)[0] intercept\n",
      "Total fit time: 16.620 seconds\n"
     ]
    },
    {
     "name": "stderr",
     "output_type": "stream",
     "text": [
      "D:\\Anaconda\\anaconda3\\lib\\site-packages\\statsmodels\\tsa\\statespace\\sarimax.py:1886: RuntimeWarning: divide by zero encountered in reciprocal\n",
      "  return np.roots(self.polynomial_reduced_ar)**-1\n",
      "D:\\Anaconda\\anaconda3\\lib\\site-packages\\statsmodels\\tsa\\statespace\\sarimax.py:1893: RuntimeWarning: divide by zero encountered in reciprocal\n",
      "  return np.roots(self.polynomial_reduced_ma)**-1\n"
     ]
    }
   ],
   "source": [
    "model = auto_arima(y=training_data[\"VWAP\"], X = training_data[ind_features], trace=True)"
   ]
  },
  {
   "cell_type": "code",
   "execution_count": 32,
   "metadata": {},
   "outputs": [
    {
     "data": {
      "text/plain": [
       "ARIMA(maxiter=50, method='lbfgs', order=(0, 0, 0), out_of_sample_size=0,\n",
       "      scoring='mse', scoring_args={}, seasonal_order=(0, 0, 0, 0),\n",
       "      start_params=None, suppress_warnings=True, trend=None,\n",
       "      with_intercept=True)"
      ]
     },
     "execution_count": 32,
     "metadata": {},
     "output_type": "execute_result"
    }
   ],
   "source": [
    "model.fit(training_data[\"VWAP\"], training_data[ind_features])"
   ]
  },
  {
   "cell_type": "code",
   "execution_count": 33,
   "metadata": {},
   "outputs": [],
   "source": [
    "prediction = model.predict( n_periods=len(test_data), X=test_data[ind_features])"
   ]
  },
  {
   "cell_type": "code",
   "execution_count": 34,
   "metadata": {},
   "outputs": [
    {
     "data": {
      "text/plain": [
       "array([2600.75552937, 2625.16207487, 2601.00799992, 2556.42834002,\n",
       "       2572.88531908, 2509.17332756, 2223.65050517, 2289.48716623,\n",
       "       2479.71340831, 2279.22431726, 2185.12132666, 2117.3463402 ,\n",
       "       2083.3442304 , 2153.62316675, 2115.9970013 , 2030.25898038,\n",
       "       1924.97262258, 1981.27368861, 2025.71070926, 2084.61662942,\n",
       "       2139.82718327, 2060.68253387, 2186.2539105 , 2156.7342677 ,\n",
       "       2106.69746883, 2157.83286652, 2076.4013318 , 2211.91547397,\n",
       "       2240.77047685, 2243.70825168, 2296.82672924, 2304.64675737,\n",
       "       2325.30305371, 2380.37437844, 2336.02230504, 2341.37055429,\n",
       "       2335.78498248, 2317.10288908, 2325.54338668, 2292.52458241,\n",
       "       2312.38100247, 2328.52178511, 2309.4461079 , 2355.86519369,\n",
       "       2343.80405965, 2377.62888636, 2385.3035566 , 2372.60735859,\n",
       "       2382.24164115, 2378.83337849, 2384.72031681, 2447.69686888,\n",
       "       2457.48429226, 2482.96403054, 2507.49824171, 2494.45896682,\n",
       "       2452.95099678, 2441.74662704, 2428.13910592, 2377.58638455,\n",
       "       2378.99823655, 2389.2828846 , 2436.66072131, 2441.57579487,\n",
       "       2445.03857154, 2467.77996708, 2531.3496754 , 2629.32831765,\n",
       "       2608.15900853, 2576.56057307, 2544.95868039, 2581.414795  ,\n",
       "       2587.78136831, 2598.38100268, 2592.47773277, 2567.82482239,\n",
       "       2574.91385051, 2560.99852876, 2543.4020775 , 2531.12395205,\n",
       "       2530.11205418, 2508.86919103, 2498.49738431, 2508.96999454,\n",
       "       2525.1749339 , 2564.81748136, 2533.88062172, 2555.18890613,\n",
       "       2545.10671733, 2565.70085832, 2600.59125245, 2618.9814972 ,\n",
       "       2445.15650811, 2502.71864707, 2610.14578464, 2593.05798132,\n",
       "       2609.62083711, 2545.86923555, 2548.94503233, 2552.11837851,\n",
       "       2612.48197895, 2668.94609662, 2690.87566918, 2677.18398637,\n",
       "       2639.10917528, 2591.47708207, 2529.05162971, 2522.5659484 ,\n",
       "       2530.12909892, 2552.68691456, 2603.57158489, 2612.15865424,\n",
       "       2646.48241589, 2625.6703032 , 2652.32556217, 2656.72900203,\n",
       "       2631.55331536, 2637.60354414, 2647.73463324, 2690.99152276,\n",
       "       2755.25282472, 2744.15653151, 2763.17847244, 2779.8464831 ,\n",
       "       2765.69878059, 2807.86627776, 2838.39191652, 2893.55795933,\n",
       "       2864.53816609, 2822.84977465, 2824.30575082, 2799.57710683,\n",
       "       2832.77036895, 2932.02502729, 3010.55868177, 2965.83916408,\n",
       "       2982.73655239, 2981.25433468, 3003.20221222, 3036.45722389,\n",
       "       3053.21703823, 3055.81026658, 3028.70402945, 2996.58957514,\n",
       "       3002.08749922, 2993.50951614, 2995.72234672, 2986.20796517,\n",
       "       2983.02039555, 3003.42435232, 3014.81953864, 3050.57506659,\n",
       "       3064.91769251, 3069.789149  , 3076.0080027 , 3073.99150307,\n",
       "       3060.30783854, 3025.0361197 , 2974.02942393, 2934.26786875,\n",
       "       2984.24436407, 2948.6222132 , 2879.57362027, 2888.17314809,\n",
       "       2955.84271767, 3187.37767763, 3300.6559031 , 3391.6703829 ,\n",
       "       3352.17920211, 3303.6610472 , 3278.3625499 , 3302.10230501,\n",
       "       3324.19607399, 3346.86922025, 3395.01544865, 3398.33271085,\n",
       "       3453.02522329, 3481.59694951, 3442.92340183, 3429.04077573,\n",
       "       3416.66259383, 3417.61187613, 3445.80800341, 3447.93903258,\n",
       "       3459.44047886, 3450.56902701, 3468.30281211, 3464.32494984,\n",
       "       3494.19895485, 3504.05412624, 3508.81187078, 3515.18267462,\n",
       "       3526.96712088, 3553.04766537, 3605.35699322, 3654.37826701,\n",
       "       3657.28812449, 3650.51975833, 3648.45216487, 3690.5866968 ,\n",
       "       3551.53877521, 3636.48506541, 3855.71732982, 3650.16068731,\n",
       "       3510.46176836, 3361.87119615, 3254.2001438 , 3301.12886986,\n",
       "       3356.81150124, 3248.8097759 , 3286.82752714, 3402.92545523,\n",
       "       3263.50203916, 3242.37049322, 3287.33208068, 3226.22903783,\n",
       "       3075.73158813, 3162.59970385, 3135.4946889 , 3135.77896948,\n",
       "       3088.12773888, 3125.55914638, 3077.61756253, 3130.69725304,\n",
       "       3233.08754154, 3205.41981688, 3242.30619728, 3243.97187489,\n",
       "       3199.55044082, 3200.22138635, 3172.84847245, 3094.4819283 ,\n",
       "       3007.41517936, 3135.58918682, 3104.52286411, 3156.22971997,\n",
       "       3180.29951347, 3158.51485965, 3186.56006721, 3201.65982946,\n",
       "       3192.26576901, 3212.42454437, 3273.47758702, 3324.46700052,\n",
       "       3356.69302816, 3346.07445675, 3340.46783456, 3338.96140122,\n",
       "       3359.88474419, 3360.6908309 , 3655.53974195, 3713.12060598,\n",
       "       3883.34323278, 4017.77791294, 3925.08299272, 3857.48948301,\n",
       "       3746.83455093, 3844.27086163, 3838.15715276, 3826.04220355,\n",
       "       3753.02415127, 3813.77221796, 3814.37548413, 3874.39308095,\n",
       "       3844.54000819, 3826.01783829, 3892.15323755, 3890.95475118,\n",
       "       3975.70497313, 4155.59396543, 4120.53410376, 4104.55083804,\n",
       "       3923.60379218, 3905.66806368, 3961.22966404, 4001.52593696,\n",
       "       4030.34837632, 4051.05144765, 4079.69984404, 4228.76475917,\n",
       "       4179.16298152, 4174.2557779 , 4123.61931208, 4039.22321726,\n",
       "       4070.9012746 , 4087.77713821, 4131.88661821, 4156.56367277,\n",
       "       4140.17793482, 4115.32547991, 4087.69858403, 4027.78672232,\n",
       "       4051.54872512, 4108.55069246, 4086.30759999, 4062.7639688 ,\n",
       "       4015.20343116, 3986.48606587, 3963.90463998, 4028.00869396,\n",
       "       3961.81507598, 3920.43883454, 3874.67633966, 3854.65720916,\n",
       "       3854.8829617 , 3897.18182423, 3936.34058157, 3965.28871159,\n",
       "       4020.96779276, 4042.22950741, 4071.50449157, 4074.07613074,\n",
       "       4059.96223563, 4074.90883699, 4105.21965878, 4135.19023651,\n",
       "       4168.73056931, 4189.49845292, 4204.50804957, 4196.03642702,\n",
       "       4162.8053183 , 4150.47796628, 4170.97216925, 4190.21114653,\n",
       "       4049.35053054, 3961.66158969, 4019.72024707, 4066.91608094,\n",
       "       4106.66759258, 4138.99397262, 4172.98576912, 4156.64053273,\n",
       "       4165.46315456, 4178.38256527, 4130.31353177, 4117.6524349 ,\n",
       "       4100.90459774, 4130.84018032, 4436.18892128, 4593.94867052,\n",
       "       4685.12443479, 4484.43086421, 4346.53548258, 4293.73818664,\n",
       "       4224.86995627, 4446.42043226, 4414.23061836, 4491.97085374,\n",
       "       4537.10649243, 4584.67615816, 4667.90578604, 4664.62728755,\n",
       "       4694.18745523, 4686.93669467, 4743.95375589, 4792.69515426,\n",
       "       4865.84725943, 4817.54344476, 4775.51088444, 4705.35707388,\n",
       "       4526.90171416, 4506.4134444 , 4682.34037226, 4489.54829912,\n",
       "       4337.25619845, 4106.17402322, 3863.08307984, 3975.45101111,\n",
       "       3699.3749501 , 3387.3002113 , 3520.42960748, 3318.76115481,\n",
       "       2932.54744783, 2549.05225555, 2639.03948696, 2535.8067884 ,\n",
       "       2252.9817934 , 2224.51075859, 2176.46452522, 2419.95040526,\n",
       "       2361.30946333, 2313.31240859, 1996.61647367, 1938.04661722,\n",
       "       1860.16864578, 1933.79445718, 2003.16649614, 2211.15397764,\n",
       "       2189.81242667, 2139.64623899, 2028.91564171, 1888.4284208 ,\n",
       "       1899.09834656, 1796.80642351, 1979.08313005, 1903.84239758,\n",
       "       1847.9783039 , 2187.70863406, 2109.73878295, 2105.28521184,\n",
       "       2006.553088  , 1764.1457623 , 1794.64399927, 1781.4017895 ,\n",
       "       1837.4938961 , 1855.45585361, 1889.64719562, 1957.32629168,\n",
       "       2004.01791666, 2053.57646454, 1952.35743298, 1769.80171038,\n",
       "       1876.56801621, 1818.56274008, 1870.55357075, 1768.55834088,\n",
       "       1787.34712483, 1708.35511908, 1704.95589091, 1902.796856  ,\n",
       "       2169.05126147, 2588.01079661, 2598.1548302 , 2503.37335436,\n",
       "       2194.86071459, 1878.01699496, 1957.31139059, 1963.5972329 ,\n",
       "       1852.44911461, 1983.67360491, 2050.21467191, 2032.43200462,\n",
       "       2090.9906473 , 2165.58322629, 2418.60158069, 2921.63404108,\n",
       "       3053.86091223, 3063.30973451, 2623.38458548, 2259.19569177,\n",
       "       2233.95198589, 2251.95837272, 2368.44528951, 2369.27227146,\n",
       "       2476.98218107, 2949.49662511, 3460.90977009, 3874.70677343,\n",
       "       3426.49000962, 2982.60798418, 2398.24123022, 2239.35485235,\n",
       "       2414.22596519, 2514.63299798, 2553.06825966, 3148.74887162,\n",
       "       3487.33758384, 3477.14600807, 3028.37374713, 2993.39622029,\n",
       "       2999.14181061, 3163.43895735, 3041.8595124 , 2822.96144841,\n",
       "       2818.41557223, 2797.56758724, 2784.43307429, 2970.86623223,\n",
       "       3209.32518073, 3263.71385807, 3228.18374227, 3048.81260873,\n",
       "       3005.65802055, 2980.68554167, 3027.53485727, 3059.71850099,\n",
       "       3048.50350843, 3105.0270446 , 3125.41426383, 3165.6201517 ,\n",
       "       3447.80293164, 3677.93788982, 3685.19737583, 3583.79061866,\n",
       "       3393.02236448])"
      ]
     },
     "execution_count": 34,
     "metadata": {},
     "output_type": "execute_result"
    }
   ],
   "source": [
    "prediction "
   ]
  },
  {
   "cell_type": "code",
   "execution_count": 36,
   "metadata": {},
   "outputs": [],
   "source": [
    "test_data[\"forecast_ARIMA\"] = prediction"
   ]
  },
  {
   "cell_type": "code",
   "execution_count": 39,
   "metadata": {},
   "outputs": [
    {
     "data": {
      "text/plain": [
       "<matplotlib.axes._subplots.AxesSubplot at 0x23df046d608>"
      ]
     },
     "execution_count": 39,
     "metadata": {},
     "output_type": "execute_result"
    },
    {
     "data": {
      "image/png": "[encoded data removed]",
      "text/plain": [
       "<Figure size 720x504 with 1 Axes>"
      ]
     },
     "metadata": {
      "needs_background": "light"
     },
     "output_type": "display_data"
    }
   ],
   "source": [
    "test_data[[\"VWAP\", \"forecast_ARIMA\"]].plot(figsize=(10,7))"
   ]
  },
  {
   "cell_type": "markdown",
   "metadata": {},
   "source": [
    "Now let's evaluate the auto ARIMA model."
   ]
  },
  {
   "cell_type": "code",
   "execution_count": 40,
   "metadata": {},
   "outputs": [],
   "source": [
    "from sklearn.metrics import mean_absolute_error, mean_squared_error"
   ]
  },
  {
   "cell_type": "code",
   "execution_count": 41,
   "metadata": {},
   "outputs": [],
   "source": [
    "rmse = np.sqrt(mean_squared_error(test_data[\"VWAP\"], test_data[\"forecast_ARIMA\"]))"
   ]
  },
  {
   "cell_type": "code",
   "execution_count": 42,
   "metadata": {},
   "outputs": [
    {
     "data": {
      "text/plain": [
       "187.77545472730867"
      ]
     },
     "execution_count": 42,
     "metadata": {},
     "output_type": "execute_result"
    }
   ],
   "source": [
    "rmse"
   ]
  },
  {
   "cell_type": "code",
   "execution_count": 45,
   "metadata": {},
   "outputs": [],
   "source": [
    "mae = mean_absolute_error(test_data[\"VWAP\"], test_data[\"forecast_ARIMA\"])"
   ]
  },
  {
   "cell_type": "code",
   "execution_count": 46,
   "metadata": {},
   "outputs": [
    {
     "data": {
      "text/plain": [
       "124.6480740444013"
      ]
     },
     "execution_count": 46,
     "metadata": {},
     "output_type": "execute_result"
    }
   ],
   "source": [
    "mae"
   ]
  }
 ],
 "metadata": {
  "kernelspec": {
   "display_name": "Python 3",
   "language": "python",
   "name": "python3"
  },
  "language_info": {
   "codemirror_mode": {
    "name": "ipython",
    "version": 3
   },
   "file_extension": ".py",
   "mimetype": "text/x-python",
   "name": "python",
   "nbconvert_exporter": "python",
   "pygments_lexer": "ipython3",
   "version": "3.8.8"
  }
 },
 "nbformat": 4,
 "nbformat_minor": 4
}
